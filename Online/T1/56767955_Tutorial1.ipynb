{
 "cells": [
  {
   "cell_type": "markdown",
   "metadata": {},
   "source": [
    "# CS4487 - Tutorial 1\n",
    "## Introduction to Jupyter and Python\n",
    "\n",
    "Welcome to Jupyter (IPython Notebooks)!  In this tutorial you will get familiar with the Jupyter computing environment, and also practice writing a small Python program."
   ]
  },
  {
   "cell_type": "markdown",
   "metadata": {},
   "source": [
    "## 1. Basics\n",
    "Notebooks are organized by cells.  Each cell can hold either Markdown formatted text or Python code.  \n",
    "- To create a new cell, use the \"Insert\" Menu.  \n",
    "- Next, choose the cell type using the dropdown menu in the toolbar, or in the \"Cell\" -> \"Cell Type\" menu.  \n",
    "- To \"run\" the cell, use the \"Cell/Run\" menu item, or push the \"play\" button on the toolbar."
   ]
  },
  {
   "cell_type": "markdown",
   "metadata": {},
   "source": [
    "Here are some useful keyboard shortcuts:\n",
    "- [arrow keys] - move up or down cells\n",
    "- b - create new cell below current one\n",
    "- a - create new cell above current one\n",
    "- dd - delete current cell\n",
    "- m - change cell to Markdown (default is code)\n",
    "- [enter] - edit cell\n",
    "- [ctrl+enter] - render/run the current cell\n",
    "- [shift+enter] - render/run the current cell, and move to the next cell."
   ]
  },
  {
   "cell_type": "markdown",
   "metadata": {},
   "source": [
    "**Tip**: In the tutorial and assignment ipynb files, it is okay to make additional code cells in the file.  This will allow you to work incrementally, and avoid re-running time-consuming code blocks."
   ]
  },
  {
   "cell_type": "markdown",
   "metadata": {},
   "source": [
    "## 2. Playground\n",
    "This cell is holding Markdown formatted text.  Here is a [Markdown cheatsheet](https://github.com/adam-p/markdown-here/wiki/Markdown-Cheatsheet).\n",
    "\n",
    "The following cell holds Python code!  Select the cell, and press \"play\" to execute the code.  The output will appear below the code."
   ]
  },
  {
   "cell_type": "code",
   "execution_count": null,
   "metadata": {},
   "outputs": [],
   "source": [
    "print(\"Hello World!\")"
   ]
  },
  {
   "cell_type": "markdown",
   "metadata": {},
   "source": [
    "The notebook remembers the current state of the environment.  Thus, variables and functions that are executed will persist.  Here is a variable.  Run the cell to initialize the variable."
   ]
  },
  {
   "cell_type": "code",
   "execution_count": null,
   "metadata": {},
   "outputs": [],
   "source": [
    "x = 0\n",
    "print(x)"
   ]
  },
  {
   "cell_type": "markdown",
   "metadata": {},
   "source": [
    "Now try running the below cell several times.  You will see the value of `x` increase each time you run it."
   ]
  },
  {
   "cell_type": "code",
   "execution_count": null,
   "metadata": {},
   "outputs": [],
   "source": [
    "x += 1\n",
    "print(x)"
   ]
  },
  {
   "cell_type": "markdown",
   "metadata": {},
   "source": [
    "To reset the environment, you need to restart the kernel by either: 1) using the \"Kernel/Restart\" menu; or 2) the \"Refresh\" button on the toolbar.  \n",
    "\n",
    "If you restart the kernel and try to run the above cell, you will get an error because `x` is not defined yet. \n",
    "\n",
    "The outputs can also be cleared using \"Cell/All output/Clear\" menu item.\n",
    "\n",
    "------"
   ]
  },
  {
   "cell_type": "markdown",
   "metadata": {},
   "source": [
    "## 3. Python program\n",
    "In this section, you will write a small program to get familiar with Python.\n",
    "\n",
    "The goal of the program is to count the number of factors (_not including 1 and the number itself_) for each number between 2 and 100.  For example, the number of factors of 2 is 0, and the number of factors for 4 is 1.\n",
    "\n",
    "Here are two variables to get you started, `xs` stores the numbers from 2 to 100, and `fs` will store the factors for each number in `xs`."
   ]
  },
  {
   "cell_type": "code",
   "execution_count": null,
   "metadata": {},
   "outputs": [],
   "source": [
    "xs = range(2,101)   # the number\n",
    "fs = []             # store number of factors in this list"
   ]
  },
  {
   "cell_type": "markdown",
   "metadata": {},
   "source": [
    "Write the program in the cell below."
   ]
  },
  {
   "cell_type": "code",
   "execution_count": null,
   "metadata": {},
   "outputs": [],
   "source": [
    "# INSERT YOUR CODE HERE"
   ]
  },
  {
   "cell_type": "code",
   "execution_count": null,
   "metadata": {},
   "outputs": [],
   "source": [
    "def counter (x):\n",
    "    a=2\n",
    "    cnt=0\n",
    "    for i in range(1,x+1):\n",
    "        if x>a and x%a==0:\n",
    "            cnt+=1\n",
    "        a+=1\n",
    "    return cnt\n",
    "\n",
    "for i in xs:\n",
    "    fs.append(counter(i))\n",
    "# for i in fs:\n",
    "#     print(i)"
   ]
  },
  {
   "cell_type": "markdown",
   "metadata": {},
   "source": [
    "Now we will make some plots using `xs` and `fs`.  First, we need to initialize the matplotlib library."
   ]
  },
  {
   "cell_type": "code",
   "execution_count": null,
   "metadata": {},
   "outputs": [],
   "source": [
    "# setup matplotlib display\n",
    "%matplotlib inline\n",
    "import IPython.core.display         # setup output image format\n",
    "IPython.core.display.set_matplotlib_formats(\"svg\") \n",
    "import matplotlib.pyplot as plt     # import matplotlib"
   ]
  },
  {
   "cell_type": "markdown",
   "metadata": {},
   "source": [
    "Write code to plot the number of factors (y-axis) vs the number (x-axis). Don't forget to label your axes!"
   ]
  },
  {
   "cell_type": "code",
   "execution_count": null,
   "metadata": {},
   "outputs": [],
   "source": [
    "# INSERT YOUR CODE HERE"
   ]
  },
  {
   "cell_type": "code",
   "execution_count": null,
   "metadata": {},
   "outputs": [],
   "source": [
    "x=range(2,101)\n",
    "y=fs\n",
    "plt.xlabel(\"number\")\n",
    "plt.ylabel(\"num of factors\")\n",
    "plt.axis([0, 101, 0, 11])  # set the axis (xmin, xmax, ymin, ymax)\n",
    "plt.scatter(x, y)\n",
    "plt.show()"
   ]
  },
  {
   "cell_type": "markdown",
   "metadata": {},
   "source": [
    "Next we will plot a histogram of the number of factors."
   ]
  },
  {
   "cell_type": "code",
   "execution_count": null,
   "metadata": {},
   "outputs": [],
   "source": [
    "binedges = [i-0.5 for i in range(0,12)]    # first get the edges of bins\n",
    "plt.hist(fs, binedges,                     # histogram plot (data, bins)\n",
    "         facecolor='g', alpha=0.75, align='mid')  # appearance options\n",
    "plt.xlabel('Number of factors')\n",
    "plt.ylabel('Count')\n",
    "plt.title('Histogram of number of factors')\n",
    "plt.axis([-0.5, 10.5, 0, 40])  # set the axis (xmin, xmax, ymin, ymax)\n",
    "\n",
    "for a in range(0, 11):\n",
    "    plt.text(a, fs.count(a)+1, fs.count(a), ha='center', va='bottom')\n",
    "    \n",
    "plt.grid(True)"
   ]
  },
  {
   "cell_type": "markdown",
   "metadata": {},
   "source": [
    "## 4. Pickle\n",
    "Next you will practice using pickle to load data from the file \"data1.pickle\".  The pickle is storing an ndarray object (numpy multi-dimensional array).  Load the pickle file and save its contents into a variable called `mydata`.\n"
   ]
  },
  {
   "cell_type": "code",
   "execution_count": null,
   "metadata": {},
   "outputs": [],
   "source": [
    "# INSERT YOUR CODE HERE"
   ]
  },
  {
   "cell_type": "code",
   "execution_count": null,
   "metadata": {},
   "outputs": [],
   "source": [
    "import pickle\n",
    "mydata=pickle.load(open('data1.pickle','rb'))\n",
    "# print(mydata)"
   ]
  },
  {
   "cell_type": "markdown",
   "metadata": {},
   "source": [
    "'mydata' is a 2-d array. Each row of the array is a \"sample\". Let's look at the shape of the array."
   ]
  },
  {
   "cell_type": "code",
   "execution_count": null,
   "metadata": {
    "scrolled": true
   },
   "outputs": [],
   "source": [
    "mydata.shape"
   ]
  },
  {
   "cell_type": "markdown",
   "metadata": {},
   "source": [
    "Inspecting the shape of the array, we see that there are 120 samples (rows). Each sample is a 2-dimensional vector (the number of columns)."
   ]
  },
  {
   "cell_type": "markdown",
   "metadata": {},
   "source": [
    "Finally, let's visualise the data with a plot.  Treat the 1st dimension of the samples as the x-variable, and the 2nd dimension as the y-variable. In other words, plot the 1st column of the data vs. the 2nd column of the data."
   ]
  },
  {
   "cell_type": "code",
   "execution_count": null,
   "metadata": {},
   "outputs": [],
   "source": [
    "# INSERT YOUR CODE HERE"
   ]
  },
  {
   "cell_type": "code",
   "execution_count": null,
   "metadata": {},
   "outputs": [],
   "source": [
    "import matplotlib.pyplot as plt\n",
    "plt.xlabel(\"x\")\n",
    "plt.ylabel(\"y\")\n",
    "# plt.axis([0, 101, 0, 11])\n",
    "for sample in mydata:\n",
    "    plt.scatter(sample[0], sample[1])\n",
    "plt.show()"
   ]
  },
  {
   "cell_type": "markdown",
   "metadata": {},
   "source": [
    "# 5. Using Numpy \n",
    "Now we will practice using NumPy to implement the Gram-Schmidt process for orthonormalizing a set of vectors that span the same subspace. Recall that a set of vectors $\\{\\mathbf{e}_i\\}_{i=1}^K$ are orthonormal if $\\mathbf{e}_i^T \\mathbf{e}_j = \\begin{cases} 1, & i=j \\\\ 0, &i\\neq j\\end{cases}$.  That is, each vector $\\mathbf{e}_i$ is orthogonal (90 degrees from) all other vectors $\\mathbf{e}_j$, $j\\neq i$, and all vectors are unit length $||\\mathbf{e}_i||=1$."
   ]
  },
  {
   "cell_type": "markdown",
   "metadata": {},
   "source": [
    "### Gram-Schmidt process\n",
    "Define the projection of vector $\\mathbf{v}$ onto the direction of vector $\\mathbf{u}$ as:\n",
    "$P_{\\mathbf{u}}(\\mathbf{v}) = \\frac{\\mathbf{v}^T\\mathbf{u}}{\\mathbf{u}^T\\mathbf{u}} \\mathbf{u}$.\n",
    "\n",
    "The Gram-Schmidt process for the set of vectors $\\{\\mathbf{v}_i\\}_{i=1}^K$ is obtained in two steps. The first step produces a set of orthogonal vectors:\n",
    "1. $\\mathbf{u}_1 = \\mathbf{v}_1$\n",
    "2. $\\mathbf{u}_2 = \\mathbf{v}_2 - P_{\\mathbf{u}_1}(\\mathbf{v}_2)$\n",
    "3. $\\mathbf{u}_3 = \\mathbf{v}_3 - P_{\\mathbf{u}_1}(\\mathbf{v}_3) - P_{\\mathbf{u}_2}(\\mathbf{v}_3)$\n",
    "4. $\\mathbf{u}_4 = \\mathbf{v}_4 - P_{\\mathbf{u}_1}(\\mathbf{v}_4) - P_{\\mathbf{u}_2}(\\mathbf{v}_4)- P_{\\mathbf{u}_3}(\\mathbf{v}_4) $\n",
    "5. ...\n",
    "6. $\\mathbf{u}_k = \\mathbf{v}_k - \\sum_{j=1}^{k-1} P_{\\mathbf{u}_j}(\\mathbf{v}_k)$\n",
    "\n",
    "The second step computes the orthonormal vectors: $\\mathbf{e}_k = \\frac{\\mathbf{u}_k}{||\\mathbf{u}_k||}$."
   ]
  },
  {
   "cell_type": "markdown",
   "metadata": {},
   "source": [
    "Let $\\mathbf{V} = [\\mathbf{v}_1 \\cdots \\mathbf{v}_K]$ be a matrix of vectors. Write a function to orthonormalize the columns of an input matrix $V$, and return the result matrix $\\mathbf{E} = [\\mathbf{e}_1 \\cdots \\mathbf{e}_K]$."
   ]
  },
  {
   "cell_type": "code",
   "execution_count": null,
   "metadata": {},
   "outputs": [],
   "source": [
    "from numpy import *"
   ]
  },
  {
   "cell_type": "code",
   "execution_count": null,
   "metadata": {},
   "outputs": [],
   "source": [
    "# INSERT YOUR CODE HERE"
   ]
  },
  {
   "cell_type": "code",
   "execution_count": 4,
   "metadata": {},
   "outputs": [],
   "source": [
    "import numpy as np\n",
    "def myGS(Vec):\n",
    "    basis = []\n",
    "    for v in Vec:        \n",
    "        w=v-__builtin__.sum(np.dot(v,b)*b  for b in basis)\n",
    "        if(w>1e-10).any():  \n",
    "            basis.append(w/np.linalg.norm(w))\n",
    "    return np.array(basis)"
   ]
  },
  {
   "cell_type": "markdown",
   "metadata": {},
   "source": [
    "Test your function with the following code. Here we assume the function is called `myGS`."
   ]
  },
  {
   "cell_type": "code",
   "execution_count": 5,
   "metadata": {},
   "outputs": [],
   "source": [
    "from numpy import *\n",
    "V = array([[1., 0, -1, 4], [-1, 2, 2, -1], [2, 3, 1, -3]]).transpose()\n",
    "print(V)"
   ]
  },
  {
   "cell_type": "code",
   "execution_count": 6,
   "metadata": {
    "scrolled": true
   },
   "outputs": [],
   "source": [
    "E = myGS(V)\n",
    "# print E matrix\n",
    "print(E)"
   ]
  },
  {
   "cell_type": "markdown",
   "metadata": {},
   "source": [
    "Your function is correct if $\\mathbf{E}^T\\mathbf{E}$ is the identity matrix $\\mathbf{I} = \\left[\\begin{array}{c}1 & 0 & 0 \\\\ 0 & 1 & 0 \\\\ 0 & 0 & 1 \\end{array}\\right]$."
   ]
  },
  {
   "cell_type": "code",
   "execution_count": 7,
   "metadata": {},
   "outputs": [
    {
     "name": "stdout",
     "output_type": "stream",
     "text": [
      "[[ 1.00000000e+00  4.50337734e-16 -7.30178330e-17]\n",
      " [ 4.50337734e-16  1.00000000e+00 -4.23995363e-16]\n",
      " [-7.30178330e-17 -4.23995363e-16  1.00000000e+00]]\n"
     ]
    }
   ],
   "source": [
    "# compute E^T E. it should be close to the identity matrix\n",
    "print(E.transpose() @ E)"
   ]
  },
  {
   "cell_type": "markdown",
   "metadata": {},
   "source": [
    "## 6. Getting Help\n",
    "\n",
    "IPython has built-in help.  Here are some useful commands:\n",
    "- `?` - introduction to IPython\n",
    "- `object?` - info/help about an object, class, or module\n",
    "- `object??` - even more details\n",
    "- `%quickref` - quick reference for IPython magic functions (%)\n",
    "- `%history` - show the history of the session\n",
    "- tab-completion - hit tab to use auto-completion"
   ]
  },
  {
   "cell_type": "code",
   "execution_count": null,
   "metadata": {},
   "outputs": [],
   "source": [
    "plt?"
   ]
  }
 ],
 "metadata": {
  "kernelspec": {
   "display_name": "Python 3",
   "language": "python",
   "name": "python3"
  },
  "language_info": {
   "codemirror_mode": {
    "name": "ipython",
    "version": 3
   },
   "file_extension": ".py",
   "mimetype": "text/x-python",
   "name": "python",
   "nbconvert_exporter": "python",
   "pygments_lexer": "ipython3",
   "version": "3.7.4"
  }
 },
 "nbformat": 4,
 "nbformat_minor": 1
}
